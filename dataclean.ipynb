{
 "cells": [
  {
   "cell_type": "markdown",
   "id": "30dbbae9-d2e4-4c7b-8163-6389e770c1a7",
   "metadata": {},
   "source": [
    "## Load and Combine Raw Data"
   ]
  },
  {
   "cell_type": "code",
   "execution_count": 8,
   "id": "893aaa69-e848-40e3-9873-3d38bb9db4e9",
   "metadata": {},
   "outputs": [
    {
     "name": "stdout",
     "output_type": "stream",
     "text": [
      "--- Step 1: Loading and Combining Raw Data ---\n",
      "✅ Raw data loaded and combined.\n"
     ]
    }
   ],
   "source": [
    "print(\"--- Step 1: Loading Raw Data ---\")\n",
    "cols = [\n",
    "    'age', 'sex', 'on thyroxine', 'query on thyroxine', 'on antithyroid medication', 'sick',\n",
    "    'pregnant', 'thyroid surgery', 'I131 treatment', 'query hypothyroid', 'query hyperthyroid',\n",
    "    'lithium', 'goitre', 'tumor', 'hypopituitary', 'psych', 'TSH measured', 'TSH',\n",
    "    'T3 measured', 'T3', 'TT4 measured', 'TT4', 'T4U measured', 'T4U', 'FTI measured', 'FTI',\n",
    "    'TBG measured', 'TBG', 'referral source', 'diagnosis'\n",
    "]\n",
    "try:\n",
    "    df_hypo = pd.read_csv('allhypo.data', header=None, names=cols, na_values='?')\n",
    "    df_hyper = pd.read_csv('allhyper.data', header=None, names=cols, na_values='?')\n",
    "    print(\"✅ Raw data loaded.\")\n",
    "except FileNotFoundError:\n",
    "    print(\"❌ Error: Raw data files ('allhypo.data', 'allhyper.data') not found.\")\n",
    "    exit()\n",
    "    "
   ]
  },
  {
   "cell_type": "markdown",
   "id": "b1ee3142-1b55-40f3-ab7b-500bbdcfedfd",
   "metadata": {},
   "source": [
    "## Initial Cleaning"
   ]
  },
  {
   "cell_type": "code",
   "execution_count": 14,
   "id": "eee1ae64-f537-44a2-ac37-f148846675b5",
   "metadata": {},
   "outputs": [
    {
     "name": "stdout",
     "output_type": "stream",
     "text": [
      "\n",
      "--- Step 2: Combining Files Safely ---\n",
      "✅ Files safely combined.\n"
     ]
    }
   ],
   "source": [
    "print(\"\\n--- Step 2: Combining Files Safely ---\")\n",
    "# Clean the diagnosis column in both dataframes\n",
    "df_hypo['diagnosis'] = df_hypo['diagnosis'].apply(lambda x: str(x).split('.')[0].strip())\n",
    "df_hyper['diagnosis'] = df_hyper['diagnosis'].apply(lambda x: str(x).split('.')[0].strip())\n",
    "\n",
    "df_hyper_positive = df_hyper[df_hyper['diagnosis'] != 'negative']\n",
    "\n",
    "df_combined = pd.concat([df_hypo, df_hyper_positive], ignore_index=True)\n",
    "print(\"✅ Files safely combined.\")"
   ]
  },
  {
   "cell_type": "markdown",
   "id": "62354ba2-eed1-42c5-9060-8ce948cfbcd1",
   "metadata": {},
   "source": [
    "## Create Target and Drop Useless Columns \n"
   ]
  },
  {
   "cell_type": "code",
   "execution_count": 15,
   "id": "f646c909-f158-4914-b7d6-f0580a667c5d",
   "metadata": {},
   "outputs": [
    {
     "name": "stdout",
     "output_type": "stream",
     "text": [
      "\n",
      "--- Step 3: Creating Target and Dropping Columns ---\n",
      "✅ Target column created and unnecessary columns dropped.\n"
     ]
    }
   ],
   "source": [
    "print(\"\\n--- Step 3: Creating Target and Dropping Columns ---\")\n",
    "class_mapping = {\n",
    "    'negative': 'Negative', 'compensated hypothyroid': 'Compensated Hypothyroid',\n",
    "    'primary hypothyroid': 'Primary Hypothyroid', 'secondary hypothyroid': 'Primary Hypothyroid',\n",
    "    'hyperthyroid': 'Hyperthyroid', 'T3 toxic': 'Hyperthyroid',\n",
    "    'toxic goitre': 'Hyperthyroid', 'secondary toxic': 'Hyperthyroid', 'goitre': 'Hyperthyroid'\n",
    "}\n",
    "df_combined['target'] = df_combined['diagnosis'].map(class_mapping)\n",
    "df_combined = df_combined.dropna(subset=['target'])\n",
    "measured_cols = ['TSH measured', 'T3 measured', 'TT4 measured', 'T4U measured', 'FTI measured', 'TBG measured']\n",
    "df_full_processed = df_combined.drop(columns=['diagnosis', 'TBG', 'referral source'] + measured_cols)\n",
    "print(\"✅ Target column created and unnecessary columns dropped.\")"
   ]
  },
  {
   "cell_type": "markdown",
   "id": "77039af3-a355-4db7-bac1-5b567d5451c5",
   "metadata": {},
   "source": [
    " ## Encode All Categorical & Binary Columns"
   ]
  },
  {
   "cell_type": "code",
   "execution_count": 16,
   "id": "c46538f7-0e94-4ff8-bf57-0badbf1ed886",
   "metadata": {},
   "outputs": [
    {
     "name": "stdout",
     "output_type": "stream",
     "text": [
      "\n",
      "--- Step 4: Encoding Categorical Features ---\n",
      "✅ Categorical features encoded.\n"
     ]
    }
   ],
   "source": [
    "print(\"\\n--- Step 4: Encoding Categorical Features ---\")\n",
    "binary_cols = ['on thyroxine', 'query on thyroxine', 'on antithyroid medication', 'sick', 'pregnant', 'thyroid surgery', 'I131 treatment', 'query hypothyroid', 'query hyperthyroid', 'lithium', 'goitre', 'tumor', 'hypopituitary', 'psych']\n",
    "for col in binary_cols:\n",
    "    df_full_processed[col] = df_full_processed[col].map({'f': 0, 't': 1}).fillna(0).astype(int)\n",
    "sex_mode = df_full_processed['sex'].mode()[0]\n",
    "df_full_processed['sex'] = df_full_processed['sex'].fillna(sex_mode).map({'F': 0, 'M': 1}).fillna(0).astype(int)\n",
    "print(\"✅ Categorical features encoded.\")"
   ]
  },
  {
   "cell_type": "markdown",
   "id": "b1a802ad-f3a1-4f07-8738-0315288568f8",
   "metadata": {},
   "source": [
    "## Impute Missing Numerical Values"
   ]
  },
  {
   "cell_type": "code",
   "execution_count": 17,
   "id": "c104b6ca-c396-41c8-9205-86b65b6d0b9c",
   "metadata": {},
   "outputs": [
    {
     "name": "stdout",
     "output_type": "stream",
     "text": [
      "\n",
      "--- Step 5: Imputing Numerical Features ---\n",
      "✅ Numerical features imputed.\n"
     ]
    }
   ],
   "source": [
    "print(\"\\n--- Step 5: Imputing Numerical Features ---\")\n",
    "numerical_cols = df_full_processed.select_dtypes(include=np.number).columns.tolist()\n",
    "# Ensure 'target' isn't in this list if it's already encoded\n",
    "numerical_cols = [col for col in numerical_cols if 'target' not in col]\n",
    "for col in numerical_cols:\n",
    "    median_val = df_full_processed[col].median()\n",
    "    df_full_processed[col] = df_full_processed[col].fillna(median_val)\n",
    "print(\"✅ Numerical features imputed.\")"
   ]
  },
  {
   "cell_type": "markdown",
   "id": "b27f21b6-10f8-4474-a71d-66d405f568b2",
   "metadata": {},
   "source": [
    "## Encode Target "
   ]
  },
  {
   "cell_type": "code",
   "execution_count": 18,
   "id": "971e3242-f1b9-4329-9653-f6512c51750f",
   "metadata": {},
   "outputs": [
    {
     "name": "stdout",
     "output_type": "stream",
     "text": [
      "\n",
      "--- Step 6: Finalizing and Saving Files ---\n",
      "Encoder has been fitted. Learned classes: ['Compensated Hypothyroid', 'Hyperthyroid', 'Negative', 'Primary Hypothyroid']\n"
     ]
    }
   ],
   "source": [
    "print(\"\\n--- Step 6: Finalizing and Saving Files ---\")\n",
    "label_encoder = LabelEncoder()\n",
    "df_full_processed['target_encoded'] = label_encoder.fit_transform(df_full_processed['target'])\n",
    "print(f\"Encoder has been fitted. Learned classes: {list(label_encoder.classes_)}\")"
   ]
  },
  {
   "cell_type": "markdown",
   "id": "f91cd755-0099-4bd7-835a-553d2663716a",
   "metadata": {},
   "source": [
    "## Save Final Files"
   ]
  },
  {
   "cell_type": "code",
   "execution_count": 19,
   "id": "f1adc286-7345-4a47-962b-002b9884e994",
   "metadata": {},
   "outputs": [
    {
     "name": "stdout",
     "output_type": "stream",
     "text": [
      "✅ Correctly FITTED encoder object saved to 'target_label_encoder.pkl'.\n",
      "✅ Final clean data saved to 'thyroid_final_cleaned.csv'.\n",
      "\n",
      "\n",
      "Data preparation complete.\n"
     ]
    }
   ],
   "source": [
    "encoder_filename = 'target_label_encoder.pkl'\n",
    "with open(encoder_filename, 'wb') as f:\n",
    "    pickle.dump(label_encoder, f)\n",
    "print(f\"✅ Correctly FITTED encoder object saved to '{encoder_filename}'.\")\n",
    "\n",
    "df_final = df_full_processed.drop('target', axis=1)\n",
    "df_final.rename(columns={'target_encoded': 'target'}, inplace=True)\n",
    "csv_filename = 'thyroid_final_cleaned.csv'\n",
    "df_final.to_csv(csv_filename, index=False)\n",
    "print(f\"✅ Final clean data saved to '{csv_filename}'.\")\n",
    "\n",
    "print(\"\\n\\nData preparation complete.\")"
   ]
  },
  {
   "cell_type": "markdown",
   "id": "a8089318-8932-48fb-b723-f6936bbab8d2",
   "metadata": {},
   "source": [
    "## Printing the Data"
   ]
  },
  {
   "cell_type": "code",
   "execution_count": 20,
   "id": "47fea281-ab4a-4251-b7b9-9153f069dab3",
   "metadata": {},
   "outputs": [
    {
     "data": {
      "text/html": [
       "<div>\n",
       "<style scoped>\n",
       "    .dataframe tbody tr th:only-of-type {\n",
       "        vertical-align: middle;\n",
       "    }\n",
       "\n",
       "    .dataframe tbody tr th {\n",
       "        vertical-align: top;\n",
       "    }\n",
       "\n",
       "    .dataframe thead th {\n",
       "        text-align: right;\n",
       "    }\n",
       "</style>\n",
       "<table border=\"1\" class=\"dataframe\">\n",
       "  <thead>\n",
       "    <tr style=\"text-align: right;\">\n",
       "      <th></th>\n",
       "      <th>age</th>\n",
       "      <th>sex</th>\n",
       "      <th>on thyroxine</th>\n",
       "      <th>query on thyroxine</th>\n",
       "      <th>on antithyroid medication</th>\n",
       "      <th>sick</th>\n",
       "      <th>pregnant</th>\n",
       "      <th>thyroid surgery</th>\n",
       "      <th>I131 treatment</th>\n",
       "      <th>query hypothyroid</th>\n",
       "      <th>...</th>\n",
       "      <th>goitre</th>\n",
       "      <th>tumor</th>\n",
       "      <th>hypopituitary</th>\n",
       "      <th>psych</th>\n",
       "      <th>TSH</th>\n",
       "      <th>T3</th>\n",
       "      <th>TT4</th>\n",
       "      <th>T4U</th>\n",
       "      <th>FTI</th>\n",
       "      <th>target</th>\n",
       "    </tr>\n",
       "  </thead>\n",
       "  <tbody>\n",
       "    <tr>\n",
       "      <th>0</th>\n",
       "      <td>41.0</td>\n",
       "      <td>0</td>\n",
       "      <td>0</td>\n",
       "      <td>0</td>\n",
       "      <td>0</td>\n",
       "      <td>0</td>\n",
       "      <td>0</td>\n",
       "      <td>0</td>\n",
       "      <td>0</td>\n",
       "      <td>0</td>\n",
       "      <td>...</td>\n",
       "      <td>0</td>\n",
       "      <td>0</td>\n",
       "      <td>0</td>\n",
       "      <td>0</td>\n",
       "      <td>1.30</td>\n",
       "      <td>2.5</td>\n",
       "      <td>125.0</td>\n",
       "      <td>1.14</td>\n",
       "      <td>109.0</td>\n",
       "      <td>2</td>\n",
       "    </tr>\n",
       "    <tr>\n",
       "      <th>1</th>\n",
       "      <td>23.0</td>\n",
       "      <td>0</td>\n",
       "      <td>0</td>\n",
       "      <td>0</td>\n",
       "      <td>0</td>\n",
       "      <td>0</td>\n",
       "      <td>0</td>\n",
       "      <td>0</td>\n",
       "      <td>0</td>\n",
       "      <td>0</td>\n",
       "      <td>...</td>\n",
       "      <td>0</td>\n",
       "      <td>0</td>\n",
       "      <td>0</td>\n",
       "      <td>0</td>\n",
       "      <td>4.10</td>\n",
       "      <td>2.0</td>\n",
       "      <td>102.0</td>\n",
       "      <td>0.98</td>\n",
       "      <td>108.0</td>\n",
       "      <td>2</td>\n",
       "    </tr>\n",
       "    <tr>\n",
       "      <th>2</th>\n",
       "      <td>46.0</td>\n",
       "      <td>1</td>\n",
       "      <td>0</td>\n",
       "      <td>0</td>\n",
       "      <td>0</td>\n",
       "      <td>0</td>\n",
       "      <td>0</td>\n",
       "      <td>0</td>\n",
       "      <td>0</td>\n",
       "      <td>0</td>\n",
       "      <td>...</td>\n",
       "      <td>0</td>\n",
       "      <td>0</td>\n",
       "      <td>0</td>\n",
       "      <td>0</td>\n",
       "      <td>0.98</td>\n",
       "      <td>2.0</td>\n",
       "      <td>109.0</td>\n",
       "      <td>0.91</td>\n",
       "      <td>120.0</td>\n",
       "      <td>2</td>\n",
       "    </tr>\n",
       "    <tr>\n",
       "      <th>3</th>\n",
       "      <td>70.0</td>\n",
       "      <td>0</td>\n",
       "      <td>1</td>\n",
       "      <td>0</td>\n",
       "      <td>0</td>\n",
       "      <td>0</td>\n",
       "      <td>0</td>\n",
       "      <td>0</td>\n",
       "      <td>0</td>\n",
       "      <td>0</td>\n",
       "      <td>...</td>\n",
       "      <td>0</td>\n",
       "      <td>0</td>\n",
       "      <td>0</td>\n",
       "      <td>0</td>\n",
       "      <td>0.16</td>\n",
       "      <td>1.9</td>\n",
       "      <td>175.0</td>\n",
       "      <td>0.98</td>\n",
       "      <td>108.0</td>\n",
       "      <td>2</td>\n",
       "    </tr>\n",
       "    <tr>\n",
       "      <th>4</th>\n",
       "      <td>70.0</td>\n",
       "      <td>0</td>\n",
       "      <td>0</td>\n",
       "      <td>0</td>\n",
       "      <td>0</td>\n",
       "      <td>0</td>\n",
       "      <td>0</td>\n",
       "      <td>0</td>\n",
       "      <td>0</td>\n",
       "      <td>0</td>\n",
       "      <td>...</td>\n",
       "      <td>0</td>\n",
       "      <td>0</td>\n",
       "      <td>0</td>\n",
       "      <td>0</td>\n",
       "      <td>0.72</td>\n",
       "      <td>1.2</td>\n",
       "      <td>61.0</td>\n",
       "      <td>0.87</td>\n",
       "      <td>70.0</td>\n",
       "      <td>2</td>\n",
       "    </tr>\n",
       "  </tbody>\n",
       "</table>\n",
       "<p>5 rows × 22 columns</p>\n",
       "</div>"
      ],
      "text/plain": [
       "    age  sex  on thyroxine  query on thyroxine  on antithyroid medication  \\\n",
       "0  41.0    0             0                   0                          0   \n",
       "1  23.0    0             0                   0                          0   \n",
       "2  46.0    1             0                   0                          0   \n",
       "3  70.0    0             1                   0                          0   \n",
       "4  70.0    0             0                   0                          0   \n",
       "\n",
       "   sick  pregnant  thyroid surgery  I131 treatment  query hypothyroid  ...  \\\n",
       "0     0         0                0               0                  0  ...   \n",
       "1     0         0                0               0                  0  ...   \n",
       "2     0         0                0               0                  0  ...   \n",
       "3     0         0                0               0                  0  ...   \n",
       "4     0         0                0               0                  0  ...   \n",
       "\n",
       "   goitre  tumor  hypopituitary  psych   TSH   T3    TT4   T4U    FTI  target  \n",
       "0       0      0              0      0  1.30  2.5  125.0  1.14  109.0       2  \n",
       "1       0      0              0      0  4.10  2.0  102.0  0.98  108.0       2  \n",
       "2       0      0              0      0  0.98  2.0  109.0  0.91  120.0       2  \n",
       "3       0      0              0      0  0.16  1.9  175.0  0.98  108.0       2  \n",
       "4       0      0              0      0  0.72  1.2   61.0  0.87   70.0       2  \n",
       "\n",
       "[5 rows x 22 columns]"
      ]
     },
     "execution_count": 20,
     "metadata": {},
     "output_type": "execute_result"
    }
   ],
   "source": [
    "df_final.head()"
   ]
  }
 ],
 "metadata": {
  "kernelspec": {
   "display_name": "Python [conda env:base] *",
   "language": "python",
   "name": "conda-base-py"
  },
  "language_info": {
   "codemirror_mode": {
    "name": "ipython",
    "version": 3
   },
   "file_extension": ".py",
   "mimetype": "text/x-python",
   "name": "python",
   "nbconvert_exporter": "python",
   "pygments_lexer": "ipython3",
   "version": "3.13.5"
  }
 },
 "nbformat": 4,
 "nbformat_minor": 5
}
