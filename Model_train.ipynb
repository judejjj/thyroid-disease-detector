{
 "cells": [
  {
   "cell_type": "code",
   "execution_count": 1,
   "id": "13fb552b-2bb7-40e4-99d5-162eb07a89e3",
   "metadata": {},
   "outputs": [
    {
     "name": "stdout",
     "output_type": "stream",
     "text": [
      "Loading the processed data...\n",
      "✅ Data loaded successfully.\n",
      "\n",
      "Splitting data into training and testing sets...\n",
      "✅ Data split complete.\n",
      "\n",
      "Training the Random Forest model with class_weight='balanced'...\n",
      "✅ Model training complete.\n",
      "✅ Trained model saved to 'thyroid_model_weighted.pkl'\n"
     ]
    }
   ],
   "source": [
    "import pandas as pd\n",
    "import pickle\n",
    "from sklearn.model_selection import train_test_split\n",
    "from sklearn.ensemble import RandomForestClassifier\n",
    "# SMOTE is no longer needed\n",
    "\n",
    "# --- 1. Load Data ---\n",
    "print(\"Loading the processed data...\")\n",
    "try:\n",
    "    df = pd.read_csv('thyroid_final_cleaned.csv')\n",
    "    print(\"✅ Data loaded successfully.\")\n",
    "except FileNotFoundError:\n",
    "    print(\"❌ Error: 'thyroid_final_cleaned.csv' not found. Make sure it's in the same directory.\")\n",
    "    exit()\n",
    "\n",
    "# --- 2. Separate Features (X) and Target (y) ---\n",
    "X = df.drop('target', axis=1)\n",
    "y = df['target']\n",
    "\n",
    "# --- 3. Split Data into Training and Testing Sets ---\n",
    "print(\"\\nSplitting data into training and testing sets...\")\n",
    "X_train, X_test, y_train, y_test = train_test_split(\n",
    "    X, y,\n",
    "    test_size=0.2,\n",
    "    random_state=42,\n",
    "    stratify=y\n",
    ")\n",
    "print(\"✅ Data split complete.\")\n",
    "\n",
    "# --- 4. Train the Random Forest Model with Class Weighting ---\n",
    "print(\"\\nTraining the Random Forest model with class_weight='balanced'...\")\n",
    "# Add the class_weight='balanced' parameter to handle imbalance\n",
    "model = RandomForestClassifier(\n",
    "    n_estimators=100,\n",
    "    random_state=42,\n",
    "    class_weight='balanced'\n",
    ")\n",
    "\n",
    "# Train on the original, imbalanced training data\n",
    "model.fit(X_train, y_train)\n",
    "print(\"✅ Model training complete.\")\n",
    "\n",
    "# --- 5. Save the Trained Model ---\n",
    "model_filename = 'thyroid_model_weighted.pkl'\n",
    "with open(model_filename, 'wb') as f:\n",
    "    pickle.dump(model, f)\n",
    "print(f\"✅ Trained model saved to '{model_filename}'\")"
   ]
  }
 ],
 "metadata": {
  "kernelspec": {
   "display_name": "Python [conda env:base] *",
   "language": "python",
   "name": "conda-base-py"
  },
  "language_info": {
   "codemirror_mode": {
    "name": "ipython",
    "version": 3
   },
   "file_extension": ".py",
   "mimetype": "text/x-python",
   "name": "python",
   "nbconvert_exporter": "python",
   "pygments_lexer": "ipython3",
   "version": "3.13.5"
  }
 },
 "nbformat": 4,
 "nbformat_minor": 5
}
